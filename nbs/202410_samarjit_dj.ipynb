{
 "cells": [
  {
   "cell_type": "markdown",
   "metadata": {},
   "source": [
    "# Connecting to Samarjit's dj db"
   ]
  },
  {
   "cell_type": "code",
   "execution_count": 1,
   "metadata": {},
   "outputs": [
    {
     "name": "stderr",
     "output_type": "stream",
     "text": [
      "[2024-10-10 14:51:45,737][INFO]: Connecting root@127.0.0.1:3306\n",
      "[2024-10-10 14:51:45,908][INFO]: Connected root@127.0.0.1:3306\n"
     ]
    }
   ],
   "source": [
    "import datajoint as dj\n",
    "import sys\n",
    "sys.path.append('/Users/riekelabbackup/Desktop/Vyom/gitrepos/samarjit_datajoint/next-app/api/')\n",
    "import schema"
   ]
  },
  {
   "cell_type": "code",
   "execution_count": 2,
   "metadata": {},
   "outputs": [
    {
     "data": {
      "text/plain": [
       "DataJoint connection (connected) root@127.0.0.1:3306"
      ]
     },
     "execution_count": 2,
     "metadata": {},
     "output_type": "execute_result"
    }
   ],
   "source": [
    "host_address, user, password = '127.0.0.1', 'root', 'simple'\n",
    "dj.config[\"database.host\"] = f\"{host_address}\"\n",
    "dj.config[\"database.user\"] = f\"{user}\"\n",
    "dj.config[\"database.password\"] = f\"{password}\"\n",
    "dj.conn()"
   ]
  },
  {
   "cell_type": "code",
   "execution_count": 3,
   "metadata": {},
   "outputs": [],
   "source": [
    "df_meta = (schema.EpochBlock() & 'protocol_id=25').fetch(format='frame')"
   ]
  },
  {
   "cell_type": "code",
   "execution_count": 4,
   "metadata": {},
   "outputs": [
    {
     "data": {
      "text/html": [
       "<div>\n",
       "<style scoped>\n",
       "    .dataframe tbody tr th:only-of-type {\n",
       "        vertical-align: middle;\n",
       "    }\n",
       "\n",
       "    .dataframe tbody tr th {\n",
       "        vertical-align: top;\n",
       "    }\n",
       "\n",
       "    .dataframe thead th {\n",
       "        text-align: right;\n",
       "    }\n",
       "</style>\n",
       "<table border=\"1\" class=\"dataframe\">\n",
       "  <thead>\n",
       "    <tr style=\"text-align: right;\">\n",
       "      <th></th>\n",
       "      <th>id</th>\n",
       "      <th>h5_uuid</th>\n",
       "      <th>data_dir</th>\n",
       "      <th>experiment_id</th>\n",
       "      <th>parent_id</th>\n",
       "      <th>protocol_id</th>\n",
       "      <th>chunk_id</th>\n",
       "      <th>label</th>\n",
       "      <th>properties</th>\n",
       "      <th>attributes</th>\n",
       "      <th>start_time</th>\n",
       "      <th>end_time</th>\n",
       "      <th>parameters</th>\n",
       "      <th>array_pitch</th>\n",
       "    </tr>\n",
       "  </thead>\n",
       "  <tbody>\n",
       "    <tr>\n",
       "      <th>0</th>\n",
       "      <td>131</td>\n",
       "      <td>45a11efe-f80c-4b87-9c1a-2fad88dd7a14</td>\n",
       "      <td></td>\n",
       "      <td>3</td>\n",
       "      <td>40</td>\n",
       "      <td>25</td>\n",
       "      <td>None</td>\n",
       "      <td>None</td>\n",
       "      <td>{'ndf': 0, 'maxRod': 0.311382421517448, 'maxLC...</td>\n",
       "      <td>{'uuid': '45a11efe-f80c-4b87-9c1a-2fad88dd7a14...</td>\n",
       "      <td>2023-06-13 14:23:21</td>\n",
       "      <td>2023-06-13 14:23:49</td>\n",
       "      <td>{'amp': 'Amp1', 'preTime': 250, 'stimTime': 60...</td>\n",
       "      <td>None</td>\n",
       "    </tr>\n",
       "    <tr>\n",
       "      <th>1</th>\n",
       "      <td>132</td>\n",
       "      <td>8e1bc9d2-e599-4d8d-8282-3144a180a5ac</td>\n",
       "      <td></td>\n",
       "      <td>3</td>\n",
       "      <td>40</td>\n",
       "      <td>25</td>\n",
       "      <td>None</td>\n",
       "      <td>None</td>\n",
       "      <td>{'ndf': 0, 'maxRod': 0.311382421517448, 'maxLC...</td>\n",
       "      <td>{'uuid': '8e1bc9d2-e599-4d8d-8282-3144a180a5ac...</td>\n",
       "      <td>2023-06-13 14:24:00</td>\n",
       "      <td>2023-06-13 14:31:49</td>\n",
       "      <td>{'amp': 'Amp1', 'preTime': 250, 'stimTime': 60...</td>\n",
       "      <td>None</td>\n",
       "    </tr>\n",
       "    <tr>\n",
       "      <th>2</th>\n",
       "      <td>159</td>\n",
       "      <td>bf68ad7e-2de4-4b35-8084-a5a5f319f699</td>\n",
       "      <td></td>\n",
       "      <td>4</td>\n",
       "      <td>42</td>\n",
       "      <td>25</td>\n",
       "      <td>None</td>\n",
       "      <td>None</td>\n",
       "      <td>{'ndf': 0, 'maxRod': 0.311382421517448, 'maxLC...</td>\n",
       "      <td>{'uuid': 'bf68ad7e-2de4-4b35-8084-a5a5f319f699...</td>\n",
       "      <td>2023-11-29 14:12:46</td>\n",
       "      <td>2023-11-29 14:19:11</td>\n",
       "      <td>{'amp': 'Amp1', 'preTime': 250, 'stimTime': 60...</td>\n",
       "      <td>None</td>\n",
       "    </tr>\n",
       "    <tr>\n",
       "      <th>3</th>\n",
       "      <td>194</td>\n",
       "      <td>72cc8185-7972-40c0-a26e-b6097bd98a06</td>\n",
       "      <td>20240813C/data004/</td>\n",
       "      <td>5</td>\n",
       "      <td>49</td>\n",
       "      <td>25</td>\n",
       "      <td>3</td>\n",
       "      <td>None</td>\n",
       "      <td>{'ndf': 'null', 'maxRod': 151994.22959023068, ...</td>\n",
       "      <td>{'uuid': '72cc8185-7972-40c0-a26e-b6097bd98a06...</td>\n",
       "      <td>2024-08-13 15:53:44</td>\n",
       "      <td>2024-08-13 16:19:21</td>\n",
       "      <td>{'amp': 'Amp1', 'preTime': 250, 'stimTime': 60...</td>\n",
       "      <td>60um</td>\n",
       "    </tr>\n",
       "  </tbody>\n",
       "</table>\n",
       "</div>"
      ],
      "text/plain": [
       "    id                               h5_uuid            data_dir  \\\n",
       "0  131  45a11efe-f80c-4b87-9c1a-2fad88dd7a14                       \n",
       "1  132  8e1bc9d2-e599-4d8d-8282-3144a180a5ac                       \n",
       "2  159  bf68ad7e-2de4-4b35-8084-a5a5f319f699                       \n",
       "3  194  72cc8185-7972-40c0-a26e-b6097bd98a06  20240813C/data004/   \n",
       "\n",
       "   experiment_id  parent_id  protocol_id chunk_id label  \\\n",
       "0              3         40           25     None  None   \n",
       "1              3         40           25     None  None   \n",
       "2              4         42           25     None  None   \n",
       "3              5         49           25        3  None   \n",
       "\n",
       "                                          properties  \\\n",
       "0  {'ndf': 0, 'maxRod': 0.311382421517448, 'maxLC...   \n",
       "1  {'ndf': 0, 'maxRod': 0.311382421517448, 'maxLC...   \n",
       "2  {'ndf': 0, 'maxRod': 0.311382421517448, 'maxLC...   \n",
       "3  {'ndf': 'null', 'maxRod': 151994.22959023068, ...   \n",
       "\n",
       "                                          attributes          start_time  \\\n",
       "0  {'uuid': '45a11efe-f80c-4b87-9c1a-2fad88dd7a14... 2023-06-13 14:23:21   \n",
       "1  {'uuid': '8e1bc9d2-e599-4d8d-8282-3144a180a5ac... 2023-06-13 14:24:00   \n",
       "2  {'uuid': 'bf68ad7e-2de4-4b35-8084-a5a5f319f699... 2023-11-29 14:12:46   \n",
       "3  {'uuid': '72cc8185-7972-40c0-a26e-b6097bd98a06... 2024-08-13 15:53:44   \n",
       "\n",
       "             end_time                                         parameters  \\\n",
       "0 2023-06-13 14:23:49  {'amp': 'Amp1', 'preTime': 250, 'stimTime': 60...   \n",
       "1 2023-06-13 14:31:49  {'amp': 'Amp1', 'preTime': 250, 'stimTime': 60...   \n",
       "2 2023-11-29 14:19:11  {'amp': 'Amp1', 'preTime': 250, 'stimTime': 60...   \n",
       "3 2024-08-13 16:19:21  {'amp': 'Amp1', 'preTime': 250, 'stimTime': 60...   \n",
       "\n",
       "  array_pitch  \n",
       "0        None  \n",
       "1        None  \n",
       "2        None  \n",
       "3        60um  "
      ]
     },
     "execution_count": 4,
     "metadata": {},
     "output_type": "execute_result"
    }
   ],
   "source": [
    "df_meta = df_meta.reset_index()\n",
    "df_meta"
   ]
  },
  {
   "cell_type": "code",
   "execution_count": 19,
   "metadata": {},
   "outputs": [
    {
     "data": {
      "text/html": [
       "\n",
       "    \n",
       "    <style type=\"text/css\">\n",
       "        .Table{\n",
       "            border-collapse:collapse;\n",
       "        }\n",
       "        .Table th{\n",
       "            background: #A0A0A0; color: #ffffff; padding:4px; border:#f0e0e0 1px solid;\n",
       "            font-weight: normal; font-family: monospace; font-size: 100%;\n",
       "        }\n",
       "        .Table td{\n",
       "            padding:4px; border:#f0e0e0 1px solid; font-size:100%;\n",
       "        }\n",
       "        .Table tr:nth-child(odd){\n",
       "            background: #ffffff;\n",
       "            color: #000000;\n",
       "        }\n",
       "        .Table tr:nth-child(even){\n",
       "            background: #f3f1ff;\n",
       "            color: #000000;\n",
       "        }\n",
       "        /* Tooltip container */\n",
       "        .djtooltip {\n",
       "        }\n",
       "        /* Tooltip text */\n",
       "        .djtooltip .djtooltiptext {\n",
       "            visibility: hidden;\n",
       "            width: 120px;\n",
       "            background-color: black;\n",
       "            color: #fff;\n",
       "            text-align: center;\n",
       "            padding: 5px 0;\n",
       "            border-radius: 6px;\n",
       "            /* Position the tooltip text - see examples below! */\n",
       "            position: absolute;\n",
       "            z-index: 1;\n",
       "        }\n",
       "        #primary {\n",
       "            font-weight: bold;\n",
       "            color: black;\n",
       "        }\n",
       "        #nonprimary {\n",
       "            font-weight: normal;\n",
       "            color: white;\n",
       "        }\n",
       "\n",
       "        /* Show the tooltip text when you mouse over the tooltip container */\n",
       "        .djtooltip:hover .djtooltiptext {\n",
       "            visibility: visible;\n",
       "        }\n",
       "    </style>\n",
       "    \n",
       "    <b>experiment metadata, including pointers to files</b>\n",
       "        <div style=\"max-height:1000px;max-width:1500px;overflow:auto;\">\n",
       "        <table border=\"1\" class=\"Table\">\n",
       "            <thead> <tr style=\"text-align: right;\"> <th> <div class=\"djtooltip\">\n",
       "                            <p id=\"primary\">id</p>\n",
       "                            <span class=\"djtooltiptext\"></span>\n",
       "                        </div></th><th><div class=\"djtooltip\">\n",
       "                            <p id=\"nonprimary\">h5_uuid</p>\n",
       "                            <span class=\"djtooltiptext\"></span>\n",
       "                        </div></th><th><div class=\"djtooltip\">\n",
       "                            <p id=\"nonprimary\">meta_file</p>\n",
       "                            <span class=\"djtooltiptext\"></span>\n",
       "                        </div></th><th><div class=\"djtooltip\">\n",
       "                            <p id=\"nonprimary\">data_file</p>\n",
       "                            <span class=\"djtooltiptext\">empty if MEA for now, maybe should store \"/Volumes/data/data/sorted\" here?</span>\n",
       "                        </div></th><th><div class=\"djtooltip\">\n",
       "                            <p id=\"nonprimary\">tags_file</p>\n",
       "                            <span class=\"djtooltiptext\"></span>\n",
       "                        </div></th><th><div class=\"djtooltip\">\n",
       "                            <p id=\"nonprimary\">is_mea</p>\n",
       "                            <span class=\"djtooltiptext\">1 if MEA, 0 if not</span>\n",
       "                        </div></th><th><div class=\"djtooltip\">\n",
       "                            <p id=\"nonprimary\">date_added</p>\n",
       "                            <span class=\"djtooltiptext\"></span>\n",
       "                        </div></th><th><div class=\"djtooltip\">\n",
       "                            <p id=\"nonprimary\">label</p>\n",
       "                            <span class=\"djtooltiptext\"></span>\n",
       "                        </div></th><th><div class=\"djtooltip\">\n",
       "                            <p id=\"nonprimary\">properties</p>\n",
       "                            <span class=\"djtooltiptext\"></span>\n",
       "                        </div></th><th><div class=\"djtooltip\">\n",
       "                            <p id=\"nonprimary\">attributes</p>\n",
       "                            <span class=\"djtooltiptext\"></span>\n",
       "                        </div></th><th><div class=\"djtooltip\">\n",
       "                            <p id=\"nonprimary\">start_time</p>\n",
       "                            <span class=\"djtooltiptext\"></span>\n",
       "                        </div></th><th><div class=\"djtooltip\">\n",
       "                            <p id=\"nonprimary\">experimenter</p>\n",
       "                            <span class=\"djtooltiptext\"></span>\n",
       "                        </div></th><th><div class=\"djtooltip\">\n",
       "                            <p id=\"nonprimary\">institution</p>\n",
       "                            <span class=\"djtooltiptext\"></span>\n",
       "                        </div></th><th><div class=\"djtooltip\">\n",
       "                            <p id=\"nonprimary\">lab</p>\n",
       "                            <span class=\"djtooltiptext\"></span>\n",
       "                        </div></th><th><div class=\"djtooltip\">\n",
       "                            <p id=\"nonprimary\">project</p>\n",
       "                            <span class=\"djtooltiptext\"></span>\n",
       "                        </div></th><th><div class=\"djtooltip\">\n",
       "                            <p id=\"nonprimary\">rig</p>\n",
       "                            <span class=\"djtooltiptext\"></span>\n",
       "                        </div></th><th><div class=\"djtooltip\">\n",
       "                            <p id=\"nonprimary\">rig_type</p>\n",
       "                            <span class=\"djtooltiptext\"></span>\n",
       "                        </div> </th> </tr> </thead>\n",
       "            <tbody> <tr> <td>3</td>\n",
       "<td>cb3c8191-cbcd-491a-bf8d-16a6c317446e</td>\n",
       "<td>/Volumes/data-1/datajoint_testbed/meta/20230613B.json</td>\n",
       "<td>/Volumes/data-1/datajoint_testbed/data/20230613B.h5</td>\n",
       "<td>/Volumes/data-1/datajoint_testbed/tags/20230613B.json</td>\n",
       "<td>0</td>\n",
       "<td>2024-10-07 11:37:21</td>\n",
       "<td>Primate</td>\n",
       "<td>=BLOB=</td>\n",
       "<td>=BLOB=</td>\n",
       "<td>2023-06-13 08:46:09</td>\n",
       "<td>None</td>\n",
       "<td>None</td>\n",
       "<td>None</td>\n",
       "<td>None</td>\n",
       "<td>None</td>\n",
       "<td>PATCH</td> </tr> </tbody>\n",
       "        </table>\n",
       "        \n",
       "        <p>Total: 1</p></div>\n",
       "        "
      ],
      "text/plain": [
       "*id    h5_uuid        meta_file      data_file      tags_file      is_mea     date_added     label       properties attributes start_time     experimenter   institution    lab      project     rig      rig_type    \n",
       "+----+ +------------+ +------------+ +------------+ +------------+ +--------+ +------------+ +---------+ +--------+ +--------+ +------------+ +------------+ +------------+ +------+ +---------+ +------+ +----------+\n",
       "3      cb3c8191-cbcd- /Volumes/data- /Volumes/data- /Volumes/data- 0          2024-10-07 11: Primate     =BLOB=     =BLOB=     2023-06-13 08: None           None           None     None        None     PATCH       \n",
       " (Total: 1)"
      ]
     },
     "execution_count": 19,
     "metadata": {},
     "output_type": "execute_result"
    }
   ],
   "source": [
    "schema.Experiment() & 'id=3'"
   ]
  },
  {
   "cell_type": "code",
   "execution_count": 27,
   "metadata": {},
   "outputs": [
    {
     "data": {
      "text/plain": [
       "({'ndf': 0,\n",
       "  'maxRod': 0.311382421517448,\n",
       "  'maxLCone': 0.41977380315461704,\n",
       "  'maxMCone': 0.39094509424685103,\n",
       "  'maxSCone': 0.07445686809475699,\n",
       "  'stageClass': 'Video',\n",
       "  'objectiveMag': 'null',\n",
       "  'micronsPerPixel': 0.8},\n",
       " {'amp': 'Amp1',\n",
       "  'preTime': 250,\n",
       "  'stimTime': 6000,\n",
       "  'tailTime': 500,\n",
       "  'waitTime': 1000,\n",
       "  'freezeFEMs': 0,\n",
       "  'sampleRate': 10000,\n",
       "  'maskDiameter': 0,\n",
       "  'onlineAnalysis': 'extracellular',\n",
       "  'stimulusIndices': [2, 6, 12, 24, 50],\n",
       "  'apertureDiameter': 2000,\n",
       "  'numberOfAverages': 48,\n",
       "  'interpulseInterval': 0.5})"
      ]
     },
     "execution_count": 27,
     "metadata": {},
     "output_type": "execute_result"
    }
   ],
   "source": [
    "df_meta.loc[0,'properties'], df_meta.loc[0,'parameters']"
   ]
  },
  {
   "cell_type": "code",
   "execution_count": 10,
   "metadata": {},
   "outputs": [
    {
     "data": {
      "text/html": [
       "<div>\n",
       "<style scoped>\n",
       "    .dataframe tbody tr th:only-of-type {\n",
       "        vertical-align: middle;\n",
       "    }\n",
       "\n",
       "    .dataframe tbody tr th {\n",
       "        vertical-align: top;\n",
       "    }\n",
       "\n",
       "    .dataframe thead th {\n",
       "        text-align: right;\n",
       "    }\n",
       "</style>\n",
       "<table border=\"1\" class=\"dataframe\">\n",
       "  <thead>\n",
       "    <tr style=\"text-align: right;\">\n",
       "      <th></th>\n",
       "      <th>id</th>\n",
       "      <th>h5_uuid</th>\n",
       "      <th>experiment_id</th>\n",
       "      <th>parent_id</th>\n",
       "      <th>label</th>\n",
       "      <th>properties</th>\n",
       "      <th>attributes</th>\n",
       "      <th>start_time</th>\n",
       "      <th>end_time</th>\n",
       "      <th>parameters</th>\n",
       "    </tr>\n",
       "  </thead>\n",
       "  <tbody>\n",
       "    <tr>\n",
       "      <th>0</th>\n",
       "      <td>2376</td>\n",
       "      <td>6da6f605-b776-4a80-af37-fd3e00fad483</td>\n",
       "      <td>3</td>\n",
       "      <td>131</td>\n",
       "      <td>None</td>\n",
       "      <td>{'bathTemperature': 32.2}</td>\n",
       "      <td>{'uuid': '6da6f605-b776-4a80-af37-fd3e00fad483...</td>\n",
       "      <td>2023-06-13 14:23:23</td>\n",
       "      <td>2023-06-13 14:23:30</td>\n",
       "      <td>{'NDF': 0, 'amp': 'Amp1', 'gain': 'medium', 'n...</td>\n",
       "    </tr>\n",
       "    <tr>\n",
       "      <th>1</th>\n",
       "      <td>2377</td>\n",
       "      <td>e0cc52b3-7a86-43e3-b506-e904bd7c5af1</td>\n",
       "      <td>3</td>\n",
       "      <td>131</td>\n",
       "      <td>None</td>\n",
       "      <td>{'bathTemperature': 32.1}</td>\n",
       "      <td>{'uuid': 'e0cc52b3-7a86-43e3-b506-e904bd7c5af1...</td>\n",
       "      <td>2023-06-13 14:23:34</td>\n",
       "      <td>2023-06-13 14:23:41</td>\n",
       "      <td>{'NDF': 0, 'amp': 'Amp1', 'gain': 'medium', 'n...</td>\n",
       "    </tr>\n",
       "  </tbody>\n",
       "</table>\n",
       "</div>"
      ],
      "text/plain": [
       "     id                               h5_uuid  experiment_id  parent_id label  \\\n",
       "0  2376  6da6f605-b776-4a80-af37-fd3e00fad483              3        131  None   \n",
       "1  2377  e0cc52b3-7a86-43e3-b506-e904bd7c5af1              3        131  None   \n",
       "\n",
       "                  properties  \\\n",
       "0  {'bathTemperature': 32.2}   \n",
       "1  {'bathTemperature': 32.1}   \n",
       "\n",
       "                                          attributes          start_time  \\\n",
       "0  {'uuid': '6da6f605-b776-4a80-af37-fd3e00fad483... 2023-06-13 14:23:23   \n",
       "1  {'uuid': 'e0cc52b3-7a86-43e3-b506-e904bd7c5af1... 2023-06-13 14:23:34   \n",
       "\n",
       "             end_time                                         parameters  \n",
       "0 2023-06-13 14:23:30  {'NDF': 0, 'amp': 'Amp1', 'gain': 'medium', 'n...  \n",
       "1 2023-06-13 14:23:41  {'NDF': 0, 'amp': 'Amp1', 'gain': 'medium', 'n...  "
      ]
     },
     "execution_count": 10,
     "metadata": {},
     "output_type": "execute_result"
    }
   ],
   "source": [
    "df_e = (schema.Epoch() & 'parent_id=131').fetch(format='frame')\n",
    "df_e = df_e.reset_index()\n",
    "df_e.head()\n",
    "# df_e.loc[0,'parameters']"
   ]
  },
  {
   "cell_type": "code",
   "execution_count": 30,
   "metadata": {},
   "outputs": [
    {
     "data": {
      "text/plain": [
       "{'NDF': 0,\n",
       " 'amp': 'Amp1',\n",
       " 'gain': 'medium',\n",
       " 'ndfs': '[]',\n",
       " 'preTime': 250,\n",
       " 'stimTime': 6000,\n",
       " 'tailTime': 500,\n",
       " 'waitTime': 1000,\n",
       " 'frameRate': 60,\n",
       " 'imageName': 'imk00031.iml',\n",
       " 'lightPath': 'above',\n",
       " 'prerender': 0,\n",
       " 'canvasSize': [800, 600],\n",
       " 'freezeFEMs': 0,\n",
       " 'sampleRate': 10000,\n",
       " 'subjectName': 'ACB2.eye',\n",
       " 'centerOffset': [-45, -17],\n",
       " 'maskDiameter': 0,\n",
       " 'stimulusIndex': 2,\n",
       " 'currentStimSet': 'dovesFEMstims20160826.mat',\n",
       " 'onlineAnalysis': 'extracellular',\n",
       " 'trueCanvasSize': [1600, 600],\n",
       " 'micronsPerPixel': 1,\n",
       " 'stimulusIndices': [2, 6, 12, 24, 50],\n",
       " 'apertureDiameter': 2000,\n",
       " 'numberOfAverages': 48,\n",
       " 'interpulseInterval': 0.5,\n",
       " 'monitorRefreshRate': 60,\n",
       " 'backgroundIntensity': 0.35362239121035516,\n",
       " 'magnificationFactor': 3,\n",
       " 'microdisplayBrightness': 'high',\n",
       " 'microdisplayBrightnessValue': 25}"
      ]
     },
     "execution_count": 30,
     "metadata": {},
     "output_type": "execute_result"
    }
   ],
   "source": [
    "df_e.loc[0,'parameters']"
   ]
  },
  {
   "cell_type": "code",
   "execution_count": 31,
   "metadata": {},
   "outputs": [
    {
     "data": {
      "text/html": [
       "<div>\n",
       "<style scoped>\n",
       "    .dataframe tbody tr th:only-of-type {\n",
       "        vertical-align: middle;\n",
       "    }\n",
       "\n",
       "    .dataframe tbody tr th {\n",
       "        vertical-align: top;\n",
       "    }\n",
       "\n",
       "    .dataframe thead th {\n",
       "        text-align: right;\n",
       "    }\n",
       "</style>\n",
       "<table border=\"1\" class=\"dataframe\">\n",
       "  <thead>\n",
       "    <tr style=\"text-align: right;\">\n",
       "      <th></th>\n",
       "      <th>id</th>\n",
       "      <th>h5_uuid</th>\n",
       "      <th>parent_id</th>\n",
       "      <th>device_name</th>\n",
       "      <th>h5path</th>\n",
       "      <th>label</th>\n",
       "      <th>sample_rate</th>\n",
       "      <th>sample_rate_units</th>\n",
       "      <th>offset_hours</th>\n",
       "      <th>offset_ticks</th>\n",
       "    </tr>\n",
       "  </thead>\n",
       "  <tbody>\n",
       "    <tr>\n",
       "      <th>0</th>\n",
       "      <td>4537</td>\n",
       "      <td>3330f470-dbeb-4efc-bd95-f9081bc38e9a</td>\n",
       "      <td>2376</td>\n",
       "      <td>Amp1</td>\n",
       "      <td>/experiment-08e222e4-3c85-4416-a50e-831dd7b78a...</td>\n",
       "      <td>None</td>\n",
       "      <td>10000</td>\n",
       "      <td>Hz</td>\n",
       "      <td>-7</td>\n",
       "      <td>638222630037485908</td>\n",
       "    </tr>\n",
       "    <tr>\n",
       "      <th>1</th>\n",
       "      <td>4538</td>\n",
       "      <td>5fc3ca48-e88e-442d-82e7-ddb21fa5528b</td>\n",
       "      <td>2376</td>\n",
       "      <td>Frame Monitor</td>\n",
       "      <td>/experiment-08e222e4-3c85-4416-a50e-831dd7b78a...</td>\n",
       "      <td>None</td>\n",
       "      <td>10000</td>\n",
       "      <td>Hz</td>\n",
       "      <td>-7</td>\n",
       "      <td>638222630037495908</td>\n",
       "    </tr>\n",
       "  </tbody>\n",
       "</table>\n",
       "</div>"
      ],
      "text/plain": [
       "     id                               h5_uuid  parent_id    device_name  \\\n",
       "0  4537  3330f470-dbeb-4efc-bd95-f9081bc38e9a       2376           Amp1   \n",
       "1  4538  5fc3ca48-e88e-442d-82e7-ddb21fa5528b       2376  Frame Monitor   \n",
       "\n",
       "                                              h5path label sample_rate  \\\n",
       "0  /experiment-08e222e4-3c85-4416-a50e-831dd7b78a...  None       10000   \n",
       "1  /experiment-08e222e4-3c85-4416-a50e-831dd7b78a...  None       10000   \n",
       "\n",
       "  sample_rate_units offset_hours        offset_ticks  \n",
       "0                Hz           -7  638222630037485908  \n",
       "1                Hz           -7  638222630037495908  "
      ]
     },
     "execution_count": 31,
     "metadata": {},
     "output_type": "execute_result"
    }
   ],
   "source": [
    "df_r = (schema.Response() & 'parent_id=2376').fetch(format='frame')\n",
    "df_r = df_r.reset_index()\n",
    "df_r"
   ]
  },
  {
   "cell_type": "code",
   "execution_count": 32,
   "metadata": {},
   "outputs": [],
   "source": [
    "import h5py\n",
    "str_h5 = '/Volumes/data-1/datajoint_testbed/data/20230613B.h5'\n",
    "str_h5path = df_r.loc[0,'h5path']\n",
    "str_frames = df_r.loc[1,'h5path']\n",
    "with h5py.File(str_h5, 'r') as f:\n",
    "    data = f[str_h5path]['data']['quantity']\n",
    "    frames = f[str_frames]['data']['quantity']"
   ]
  },
  {
   "cell_type": "code",
   "execution_count": 33,
   "metadata": {},
   "outputs": [
    {
     "data": {
      "text/plain": [
       "[<matplotlib.lines.Line2D at 0x7f8e70e19fd0>]"
      ]
     },
     "execution_count": 33,
     "metadata": {},
     "output_type": "execute_result"
    },
    {
     "data": {
      "image/png": "[encoded data removed]",
      "text/plain": [
       "<Figure size 640x480 with 1 Axes>"
      ]
     },
     "metadata": {},
     "output_type": "display_data"
    }
   ],
   "source": [
    "import numpy as np\n",
    "import matplotlib.pyplot as plt\n",
    "f, ax = plt.subplots()\n",
    "n_pts = len(data)\n",
    "n_sample_rate = 10000 # Hz\n",
    "t_pts = np.arange(n_pts)/n_sample_rate\n",
    "ax.plot(t_pts, data)"
   ]
  },
  {
   "cell_type": "code",
   "execution_count": 35,
   "metadata": {},
   "outputs": [
    {
     "data": {
      "text/plain": [
       "(0.0, 0.5)"
      ]
     },
     "execution_count": 35,
     "metadata": {},
     "output_type": "execute_result"
    },
    {
     "data": {
      "image/png": "[encoded data removed]",
      "text/plain": [
       "<Figure size 640x480 with 1 Axes>"
      ]
     },
     "metadata": {},
     "output_type": "display_data"
    }
   ],
   "source": [
    "# Plot frames\n",
    "f, ax = plt.subplots()\n",
    "n_pts = len(frames)\n",
    "n_sample_rate = 10000 # Hz\n",
    "t_pts = np.arange(n_pts)/n_sample_rate\n",
    "ax.plot(t_pts, frames)\n",
    "ax.set_xlim(0,0.5)"
   ]
  },
  {
   "cell_type": "code",
   "execution_count": 36,
   "metadata": {},
   "outputs": [
    {
     "data": {
      "text/plain": [
       "array([0.32     , 0.3528125, 0.3865625, ..., 0.045    , 0.045    ,\n",
       "       0.0453125])"
      ]
     },
     "execution_count": 36,
     "metadata": {},
     "output_type": "execute_result"
    }
   ],
   "source": [
    "frames"
   ]
  }
 ],
 "metadata": {
  "kernelspec": {
   "display_name": "flask-server-UjNArcK8-py3.9",
   "language": "python",
   "name": "python3"
  },
  "language_info": {
   "codemirror_mode": {
    "name": "ipython",
    "version": 3
   },
   "file_extension": ".py",
   "mimetype": "text/x-python",
   "name": "python",
   "nbconvert_exporter": "python",
   "pygments_lexer": "ipython3",
   "version": "3.9.7"
  }
 },
 "nbformat": 4,
 "nbformat_minor": 2
}
