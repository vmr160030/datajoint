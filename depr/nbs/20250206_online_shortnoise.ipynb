{
 "cells": [
  {
   "cell_type": "markdown",
   "metadata": {},
   "source": [
    "# Inventory of short online analysis runs\n",
    "VR Feb 2025"
   ]
  },
  {
   "cell_type": "code",
   "execution_count": 13,
   "metadata": {},
   "outputs": [],
   "source": [
    "import glob\n",
    "import visionloader as vl\n",
    "import os\n",
    "import pandas as pd"
   ]
  },
  {
   "cell_type": "code",
   "execution_count": 14,
   "metadata": {},
   "outputs": [
    {
     "name": "stdout",
     "output_type": "stream",
     "text": [
      "Found 42 directories, eg-/Volumes/data-1/analysis/20230511C/data002\n"
     ]
    }
   ],
   "source": [
    "str_glob = '/Volumes/data-1/analysis/*/data*'\n",
    "ls_dirs = glob.glob(str_glob)\n",
    "print(f'Found {len(ls_dirs)} directories, eg-{ls_dirs[0]}')"
   ]
  },
  {
   "cell_type": "code",
   "execution_count": 15,
   "metadata": {},
   "outputs": [
    {
     "name": "stdout",
     "output_type": "stream",
     "text": [
      "Found 43 directories, eg-/Volumes/data-1/analysis/20230511C/data002\n"
     ]
    }
   ],
   "source": [
    "str_glob2 = '/Volumes/data-1/analysis/*/online*'\n",
    "ls_dirs += glob.glob(str_glob2)\n",
    "print(f'Found {len(ls_dirs)} directories, eg-{ls_dirs[0]}')\n",
    "\n",
    "ls_dirs = sorted(ls_dirs)"
   ]
  },
  {
   "cell_type": "code",
   "execution_count": 16,
   "metadata": {},
   "outputs": [
    {
     "name": "stdout",
     "output_type": "stream",
     "text": [
      "Using /Volumes/data-1/analysis/20250131C/chunk1/kilosort2.5 as example directory\n",
      "Using /Volumes/data-1/analysis/20250131C/chunk1/kilosort2.5 as analysis path\n",
      "Using kilosort2.5 as dataset name\n",
      "Max spike time is 3792.80 seconds\n",
      "Max spike time is 63.21 minutes\n"
     ]
    }
   ],
   "source": [
    "def get_max_st_min(str_dir, b_verbose=False):\n",
    "    analysis_path = str_dir\n",
    "    # dataset_name = os.path.basename(str_dir)\n",
    "    dataset_file = glob.glob(os.path.join(analysis_path, '*.neurons'))[0]\n",
    "    dataset_name = os.path.basename(dataset_file)[:-8]\n",
    "    if b_verbose:\n",
    "        print(f'Using {analysis_path} as analysis path')\n",
    "        print(f'Using {dataset_name} as dataset name')\n",
    "    vcd = vl.load_vision_data(analysis_path, dataset_name, include_neurons=True)\n",
    "    sample_rate = 20000.0 # Hz\n",
    "    ids = vcd.get_cell_ids()\n",
    "\n",
    "    # Find max spike time across all cells\n",
    "    max_spike_time = 0\n",
    "    for cell_id in ids:\n",
    "        sts = vcd.get_spike_times_for_cell(cell_id)\n",
    "        if sts.max() > max_spike_time:\n",
    "            max_spike_time = sts.max()\n",
    "    \n",
    "    max_spike_min = (max_spike_time/sample_rate)/60.0\n",
    "    \n",
    "    if b_verbose:\n",
    "        print(f'Max spike time is {max_spike_time/sample_rate:.2f} seconds')\n",
    "        print(f'Max spike time is {max_spike_min:.2f} minutes')\n",
    "    return max_spike_min\n",
    "\n",
    "str_eg_dir = '/Volumes/data-1/analysis/20250131C/chunk1/kilosort2.5'\n",
    "print(f'Using {str_eg_dir} as example directory')\n",
    "max_spike_min = get_max_st_min(str_eg_dir, b_verbose=True)"
   ]
  },
  {
   "cell_type": "code",
   "execution_count": 17,
   "metadata": {},
   "outputs": [
    {
     "data": {
      "text/plain": [
       "['', 'Volumes', 'data-1', 'analysis', '20230511C', 'data002']"
      ]
     },
     "execution_count": 17,
     "metadata": {},
     "output_type": "execute_result"
    }
   ],
   "source": [
    "ls_dirs[0].split('/')"
   ]
  },
  {
   "cell_type": "code",
   "execution_count": 18,
   "metadata": {},
   "outputs": [
    {
     "name": "stderr",
     "output_type": "stream",
     "text": [
      "  0%|          | 0/43 [00:00<?, ?it/s]"
     ]
    },
    {
     "name": "stdout",
     "output_type": "stream",
     "text": [
      "Error with /Volumes/data-1/analysis/20230511C/data002: list index out of range\n",
      "Trying subdir  /Volumes/data-1/analysis/20230511C/data002/kilosort2\n"
     ]
    },
    {
     "name": "stderr",
     "output_type": "stream",
     "text": [
      " 49%|████▉     | 21/43 [02:00<02:33,  6.97s/it]"
     ]
    },
    {
     "name": "stdout",
     "output_type": "stream",
     "text": [
      "Error with /Volumes/data-1/analysis/20240117C/data001: list index out of range\n",
      "Trying subdir  /Volumes/data-1/analysis/20240117C/data001/kilosort2\n"
     ]
    },
    {
     "name": "stderr",
     "output_type": "stream",
     "text": [
      " 91%|█████████ | 39/43 [02:48<00:03,  1.05it/s]"
     ]
    },
    {
     "name": "stdout",
     "output_type": "stream",
     "text": [
      "Error with /Volumes/data-1/analysis/20240926C/data007: list index out of range\n",
      "Trying subdir  /Volumes/data-1/analysis/20240926C/data007/kilosort2.5\n"
     ]
    },
    {
     "name": "stderr",
     "output_type": "stream",
     "text": [
      "100%|██████████| 43/43 [02:58<00:00,  4.14s/it]\n"
     ]
    }
   ],
   "source": [
    "import tqdm\n",
    "d_max_sts = {'dir': [], 'max_st_min': [], 'date_id': [], 'datafile': []}\n",
    "for str_dir in tqdm.tqdm(ls_dirs):\n",
    "    str_date = str_dir.split('/')[-2]\n",
    "    str_datafile = str_dir.split('/')[-1]\n",
    "    try:\n",
    "        max_spike_min = get_max_st_min(str_dir)\n",
    "    except Exception as e:\n",
    "        print(f'Error with {str_dir}: {e}')\n",
    "        str_try = glob.glob(str_dir + '/kilo*')[0]\n",
    "        print('Trying subdir ', str_try)\n",
    "        max_spike_min = get_max_st_min(str_try)\n",
    "    d_max_sts['dir'].append(str_dir)\n",
    "    d_max_sts['max_st_min'].append(max_spike_min)\n",
    "    d_max_sts['date_id'].append(str_date)\n",
    "    d_max_sts['datafile'].append(str_datafile)"
   ]
  },
  {
   "cell_type": "code",
   "execution_count": 19,
   "metadata": {},
   "outputs": [
    {
     "data": {
      "text/html": [
       "<div>\n",
       "<style scoped>\n",
       "    .dataframe tbody tr th:only-of-type {\n",
       "        vertical-align: middle;\n",
       "    }\n",
       "\n",
       "    .dataframe tbody tr th {\n",
       "        vertical-align: top;\n",
       "    }\n",
       "\n",
       "    .dataframe thead th {\n",
       "        text-align: right;\n",
       "    }\n",
       "</style>\n",
       "<table border=\"1\" class=\"dataframe\">\n",
       "  <thead>\n",
       "    <tr style=\"text-align: right;\">\n",
       "      <th></th>\n",
       "      <th>dir</th>\n",
       "      <th>max_st_min</th>\n",
       "      <th>date_id</th>\n",
       "      <th>datafile</th>\n",
       "    </tr>\n",
       "  </thead>\n",
       "  <tbody>\n",
       "    <tr>\n",
       "      <th>0</th>\n",
       "      <td>/Volumes/data-1/analysis/20230511C/data002</td>\n",
       "      <td>49.432083</td>\n",
       "      <td>20230511C</td>\n",
       "      <td>data002</td>\n",
       "    </tr>\n",
       "    <tr>\n",
       "      <th>1</th>\n",
       "      <td>/Volumes/data-1/analysis/20230516C/data009</td>\n",
       "      <td>30.916676</td>\n",
       "      <td>20230516C</td>\n",
       "      <td>data009</td>\n",
       "    </tr>\n",
       "    <tr>\n",
       "      <th>2</th>\n",
       "      <td>/Volumes/data-1/analysis/20230517C/data000</td>\n",
       "      <td>30.849977</td>\n",
       "      <td>20230517C</td>\n",
       "      <td>data000</td>\n",
       "    </tr>\n",
       "    <tr>\n",
       "      <th>3</th>\n",
       "      <td>/Volumes/data-1/analysis/20230523C/data000</td>\n",
       "      <td>43.283321</td>\n",
       "      <td>20230523C</td>\n",
       "      <td>data000</td>\n",
       "    </tr>\n",
       "    <tr>\n",
       "      <th>4</th>\n",
       "      <td>/Volumes/data-1/analysis/20230530C/data000</td>\n",
       "      <td>49.466664</td>\n",
       "      <td>20230530C</td>\n",
       "      <td>data000</td>\n",
       "    </tr>\n",
       "  </tbody>\n",
       "</table>\n",
       "</div>"
      ],
      "text/plain": [
       "                                          dir  max_st_min    date_id datafile\n",
       "0  /Volumes/data-1/analysis/20230511C/data002   49.432083  20230511C  data002\n",
       "1  /Volumes/data-1/analysis/20230516C/data009   30.916676  20230516C  data009\n",
       "2  /Volumes/data-1/analysis/20230517C/data000   30.849977  20230517C  data000\n",
       "3  /Volumes/data-1/analysis/20230523C/data000   43.283321  20230523C  data000\n",
       "4  /Volumes/data-1/analysis/20230530C/data000   49.466664  20230530C  data000"
      ]
     },
     "execution_count": 19,
     "metadata": {},
     "output_type": "execute_result"
    }
   ],
   "source": [
    "df_max_sts = pd.DataFrame(d_max_sts)\n",
    "df_max_sts.head()"
   ]
  },
  {
   "cell_type": "code",
   "execution_count": 20,
   "metadata": {},
   "outputs": [
    {
     "data": {
      "image/png": "[encoded data removed]",
      "text/plain": [
       "<Figure size 640x480 with 1 Axes>"
      ]
     },
     "metadata": {},
     "output_type": "display_data"
    }
   ],
   "source": [
    "import matplotlib.pyplot as plt\n",
    "plt.hist(df_max_sts['max_st_min'], bins=20);"
   ]
  },
  {
   "cell_type": "code",
   "execution_count": 21,
   "metadata": {},
   "outputs": [
    {
     "data": {
      "text/html": [
       "<div>\n",
       "<style scoped>\n",
       "    .dataframe tbody tr th:only-of-type {\n",
       "        vertical-align: middle;\n",
       "    }\n",
       "\n",
       "    .dataframe tbody tr th {\n",
       "        vertical-align: top;\n",
       "    }\n",
       "\n",
       "    .dataframe thead th {\n",
       "        text-align: right;\n",
       "    }\n",
       "</style>\n",
       "<table border=\"1\" class=\"dataframe\">\n",
       "  <thead>\n",
       "    <tr style=\"text-align: right;\">\n",
       "      <th></th>\n",
       "      <th>index</th>\n",
       "      <th>dir</th>\n",
       "      <th>max_st_min</th>\n",
       "      <th>date_id</th>\n",
       "      <th>datafile</th>\n",
       "    </tr>\n",
       "  </thead>\n",
       "  <tbody>\n",
       "    <tr>\n",
       "      <th>0</th>\n",
       "      <td>29</td>\n",
       "      <td>/Volumes/data-1/analysis/20240717C/data000</td>\n",
       "      <td>15.699998</td>\n",
       "      <td>20240717C</td>\n",
       "      <td>data000</td>\n",
       "    </tr>\n",
       "    <tr>\n",
       "      <th>1</th>\n",
       "      <td>30</td>\n",
       "      <td>/Volumes/data-1/analysis/20240718C/data000</td>\n",
       "      <td>12.566610</td>\n",
       "      <td>20240718C</td>\n",
       "      <td>data000</td>\n",
       "    </tr>\n",
       "    <tr>\n",
       "      <th>2</th>\n",
       "      <td>31</td>\n",
       "      <td>/Volumes/data-1/analysis/20240801C/data001</td>\n",
       "      <td>12.499934</td>\n",
       "      <td>20240801C</td>\n",
       "      <td>data001</td>\n",
       "    </tr>\n",
       "    <tr>\n",
       "      <th>3</th>\n",
       "      <td>33</td>\n",
       "      <td>/Volumes/data-1/analysis/20240806C/data011</td>\n",
       "      <td>18.699998</td>\n",
       "      <td>20240806C</td>\n",
       "      <td>data011</td>\n",
       "    </tr>\n",
       "    <tr>\n",
       "      <th>4</th>\n",
       "      <td>35</td>\n",
       "      <td>/Volumes/data-1/analysis/20240813C/data007</td>\n",
       "      <td>17.999993</td>\n",
       "      <td>20240813C</td>\n",
       "      <td>data007</td>\n",
       "    </tr>\n",
       "    <tr>\n",
       "      <th>5</th>\n",
       "      <td>36</td>\n",
       "      <td>/Volumes/data-1/analysis/20240813C/data008</td>\n",
       "      <td>18.699898</td>\n",
       "      <td>20240813C</td>\n",
       "      <td>data008</td>\n",
       "    </tr>\n",
       "    <tr>\n",
       "      <th>6</th>\n",
       "      <td>41</td>\n",
       "      <td>/Volumes/data-1/analysis/20250121C/data002</td>\n",
       "      <td>12.566507</td>\n",
       "      <td>20250121C</td>\n",
       "      <td>data002</td>\n",
       "    </tr>\n",
       "    <tr>\n",
       "      <th>7</th>\n",
       "      <td>42</td>\n",
       "      <td>/Volumes/data-1/analysis/20250131C/data001</td>\n",
       "      <td>12.466656</td>\n",
       "      <td>20250131C</td>\n",
       "      <td>data001</td>\n",
       "    </tr>\n",
       "  </tbody>\n",
       "</table>\n",
       "</div>"
      ],
      "text/plain": [
       "   index                                         dir  max_st_min    date_id  \\\n",
       "0     29  /Volumes/data-1/analysis/20240717C/data000   15.699998  20240717C   \n",
       "1     30  /Volumes/data-1/analysis/20240718C/data000   12.566610  20240718C   \n",
       "2     31  /Volumes/data-1/analysis/20240801C/data001   12.499934  20240801C   \n",
       "3     33  /Volumes/data-1/analysis/20240806C/data011   18.699998  20240806C   \n",
       "4     35  /Volumes/data-1/analysis/20240813C/data007   17.999993  20240813C   \n",
       "5     36  /Volumes/data-1/analysis/20240813C/data008   18.699898  20240813C   \n",
       "6     41  /Volumes/data-1/analysis/20250121C/data002   12.566507  20250121C   \n",
       "7     42  /Volumes/data-1/analysis/20250131C/data001   12.466656  20250131C   \n",
       "\n",
       "  datafile  \n",
       "0  data000  \n",
       "1  data000  \n",
       "2  data001  \n",
       "3  data011  \n",
       "4  data007  \n",
       "5  data008  \n",
       "6  data002  \n",
       "7  data001  "
      ]
     },
     "execution_count": 21,
     "metadata": {},
     "output_type": "execute_result"
    }
   ],
   "source": [
    "df = df_max_sts[(df_max_sts['max_st_min'] < 20) & (df_max_sts['max_st_min'] > 10)]\n",
    "\n",
    "df = df.reset_index()\n",
    "# df[['date_id', 'datafile']]\n",
    "df"
   ]
  },
  {
   "cell_type": "markdown",
   "metadata": {},
   "source": [
    "Want to get associated full noise chunk for each of those, compare number of cells, map EIs and plot matches found "
   ]
  },
  {
   "cell_type": "code",
   "execution_count": 26,
   "metadata": {},
   "outputs": [
    {
     "data": {
      "text/plain": [
       "DataJoint connection (connected) root@127.0.0.1:3306"
      ]
     },
     "execution_count": 26,
     "metadata": {},
     "output_type": "execute_result"
    }
   ],
   "source": [
    "import datajoint as dj\n",
    "import sys\n",
    "sys.path.append('/Users/riekelabbackup/Desktop/Vyom/datajoint/dj_modules/')\n",
    "import dj_metadata as djm\n",
    "import dj_populate as djp\n",
    "\n",
    "dj.config['database.host'] = '127.0.0.1'\n",
    "dj.config['database.user'] = 'root'\n",
    "dj.config['database.password'] = 'simple'\n",
    "dj.conn()"
   ]
  },
  {
   "cell_type": "code",
   "execution_count": 24,
   "metadata": {},
   "outputs": [
    {
     "name": "stdout",
     "output_type": "stream",
     "text": [
      "20250128C\n",
      "20250131C\n",
      "Added 2 new experiments\n"
     ]
    }
   ],
   "source": [
    "djm.load_metadata(str_metadata_dir='/Volumes/data-1/data/metadata/json/')"
   ]
  },
  {
   "cell_type": "code",
   "execution_count": 27,
   "metadata": {},
   "outputs": [
    {
     "name": "stdout",
     "output_type": "stream",
     "text": [
      "20230825C not in Experiment table.\n",
      "20230825C not in Experiment table.\n",
      "20230825C not in Experiment table.\n",
      "20240606H not in Experiment table.\n",
      "20240611H not in Experiment table.\n",
      "20240611H not in Experiment table.\n",
      "20240627H not in Experiment table.\n",
      "20240627H not in Experiment table.\n",
      "20240717H not in Experiment table.\n",
      "20240717H not in Experiment table.\n",
      "20240717H not in Experiment table.\n",
      "20241121H not in Experiment table.\n",
      "20241121H not in Experiment table.\n",
      "20241121H not in Experiment table.\n",
      "Added 11 new data files\n"
     ]
    }
   ],
   "source": [
    "djp.load_chunks_and_files()"
   ]
  },
  {
   "cell_type": "code",
   "execution_count": 28,
   "metadata": {},
   "outputs": [
    {
     "data": {
      "text/html": [
       "<div>\n",
       "<style scoped>\n",
       "    .dataframe tbody tr th:only-of-type {\n",
       "        vertical-align: middle;\n",
       "    }\n",
       "\n",
       "    .dataframe tbody tr th {\n",
       "        vertical-align: top;\n",
       "    }\n",
       "\n",
       "    .dataframe thead th {\n",
       "        text-align: right;\n",
       "    }\n",
       "</style>\n",
       "<table border=\"1\" class=\"dataframe\">\n",
       "  <thead>\n",
       "    <tr style=\"text-align: right;\">\n",
       "      <th></th>\n",
       "      <th>animal_id</th>\n",
       "    </tr>\n",
       "    <tr>\n",
       "      <th>date_id</th>\n",
       "      <th></th>\n",
       "    </tr>\n",
       "  </thead>\n",
       "  <tbody>\n",
       "    <tr>\n",
       "      <th>20241016C</th>\n",
       "      <td></td>\n",
       "    </tr>\n",
       "    <tr>\n",
       "      <th>20241121C</th>\n",
       "      <td></td>\n",
       "    </tr>\n",
       "    <tr>\n",
       "      <th>20250121C</th>\n",
       "      <td></td>\n",
       "    </tr>\n",
       "    <tr>\n",
       "      <th>20250128C</th>\n",
       "      <td></td>\n",
       "    </tr>\n",
       "    <tr>\n",
       "      <th>20250131C</th>\n",
       "      <td></td>\n",
       "    </tr>\n",
       "  </tbody>\n",
       "</table>\n",
       "</div>"
      ],
      "text/plain": [
       "          animal_id\n",
       "date_id            \n",
       "20241016C          \n",
       "20241121C          \n",
       "20250121C          \n",
       "20250128C          \n",
       "20250131C          "
      ]
     },
     "execution_count": 28,
     "metadata": {},
     "output_type": "execute_result"
    }
   ],
   "source": [
    "djm.Experiment().fetch(format='frame').tail()"
   ]
  },
  {
   "cell_type": "code",
   "execution_count": 29,
   "metadata": {},
   "outputs": [
    {
     "data": {
      "text/html": [
       "<div>\n",
       "<style scoped>\n",
       "    .dataframe tbody tr th:only-of-type {\n",
       "        vertical-align: middle;\n",
       "    }\n",
       "\n",
       "    .dataframe tbody tr th {\n",
       "        vertical-align: top;\n",
       "    }\n",
       "\n",
       "    .dataframe thead th {\n",
       "        text-align: right;\n",
       "    }\n",
       "</style>\n",
       "<table border=\"1\" class=\"dataframe\">\n",
       "  <thead>\n",
       "    <tr style=\"text-align: right;\">\n",
       "      <th></th>\n",
       "      <th>index</th>\n",
       "      <th>dir</th>\n",
       "      <th>max_st_min</th>\n",
       "      <th>date_id</th>\n",
       "      <th>datafile</th>\n",
       "    </tr>\n",
       "  </thead>\n",
       "  <tbody>\n",
       "    <tr>\n",
       "      <th>0</th>\n",
       "      <td>29</td>\n",
       "      <td>/Volumes/data-1/analysis/20240717C/data000</td>\n",
       "      <td>15.699998</td>\n",
       "      <td>20240717C</td>\n",
       "      <td>data000</td>\n",
       "    </tr>\n",
       "    <tr>\n",
       "      <th>1</th>\n",
       "      <td>30</td>\n",
       "      <td>/Volumes/data-1/analysis/20240718C/data000</td>\n",
       "      <td>12.566610</td>\n",
       "      <td>20240718C</td>\n",
       "      <td>data000</td>\n",
       "    </tr>\n",
       "    <tr>\n",
       "      <th>2</th>\n",
       "      <td>31</td>\n",
       "      <td>/Volumes/data-1/analysis/20240801C/data001</td>\n",
       "      <td>12.499934</td>\n",
       "      <td>20240801C</td>\n",
       "      <td>data001</td>\n",
       "    </tr>\n",
       "    <tr>\n",
       "      <th>3</th>\n",
       "      <td>33</td>\n",
       "      <td>/Volumes/data-1/analysis/20240806C/data011</td>\n",
       "      <td>18.699998</td>\n",
       "      <td>20240806C</td>\n",
       "      <td>data011</td>\n",
       "    </tr>\n",
       "    <tr>\n",
       "      <th>4</th>\n",
       "      <td>35</td>\n",
       "      <td>/Volumes/data-1/analysis/20240813C/data007</td>\n",
       "      <td>17.999993</td>\n",
       "      <td>20240813C</td>\n",
       "      <td>data007</td>\n",
       "    </tr>\n",
       "  </tbody>\n",
       "</table>\n",
       "</div>"
      ],
      "text/plain": [
       "   index                                         dir  max_st_min    date_id  \\\n",
       "0     29  /Volumes/data-1/analysis/20240717C/data000   15.699998  20240717C   \n",
       "1     30  /Volumes/data-1/analysis/20240718C/data000   12.566610  20240718C   \n",
       "2     31  /Volumes/data-1/analysis/20240801C/data001   12.499934  20240801C   \n",
       "3     33  /Volumes/data-1/analysis/20240806C/data011   18.699998  20240806C   \n",
       "4     35  /Volumes/data-1/analysis/20240813C/data007   17.999993  20240813C   \n",
       "\n",
       "  datafile  \n",
       "0  data000  \n",
       "1  data000  \n",
       "2  data001  \n",
       "3  data011  \n",
       "4  data007  "
      ]
     },
     "execution_count": 29,
     "metadata": {},
     "output_type": "execute_result"
    }
   ],
   "source": [
    "df.head()"
   ]
  },
  {
   "cell_type": "code",
   "execution_count": 41,
   "metadata": {},
   "outputs": [
    {
     "data": {
      "text/html": [
       "\n",
       "    \n",
       "    <style type=\"text/css\">\n",
       "        .Table{\n",
       "            border-collapse:collapse;\n",
       "        }\n",
       "        .Table th{\n",
       "            background: #A0A0A0; color: #ffffff; padding:4px; border:#f0e0e0 1px solid;\n",
       "            font-weight: normal; font-family: monospace; font-size: 100%;\n",
       "        }\n",
       "        .Table td{\n",
       "            padding:4px; border:#f0e0e0 1px solid; font-size:100%;\n",
       "        }\n",
       "        .Table tr:nth-child(odd){\n",
       "            background: #ffffff;\n",
       "            color: #000000;\n",
       "        }\n",
       "        .Table tr:nth-child(even){\n",
       "            background: #f3f1ff;\n",
       "            color: #000000;\n",
       "        }\n",
       "        /* Tooltip container */\n",
       "        .djtooltip {\n",
       "        }\n",
       "        /* Tooltip text */\n",
       "        .djtooltip .djtooltiptext {\n",
       "            visibility: hidden;\n",
       "            width: 120px;\n",
       "            background-color: black;\n",
       "            color: #fff;\n",
       "            text-align: center;\n",
       "            padding: 5px 0;\n",
       "            border-radius: 6px;\n",
       "            /* Position the tooltip text - see examples below! */\n",
       "            position: absolute;\n",
       "            z-index: 1;\n",
       "        }\n",
       "        #primary {\n",
       "            font-weight: bold;\n",
       "            color: black;\n",
       "        }\n",
       "        #nonprimary {\n",
       "            font-weight: normal;\n",
       "            color: white;\n",
       "        }\n",
       "\n",
       "        /* Show the tooltip text when you mouse over the tooltip container */\n",
       "        .djtooltip:hover .djtooltiptext {\n",
       "            visibility: visible;\n",
       "        }\n",
       "    </style>\n",
       "    \n",
       "    <b>Sorting chunk</b>\n",
       "        <div style=\"max-height:1000px;max-width:1500px;overflow:auto;\">\n",
       "        <table border=\"1\" class=\"Table\">\n",
       "            <thead> <tr style=\"text-align: right;\"> <th> <div class=\"djtooltip\">\n",
       "                            <p id=\"primary\">date_id</p>\n",
       "                            <span class=\"djtooltiptext\">date id of experiment</span>\n",
       "                        </div></th><th><div class=\"djtooltip\">\n",
       "                            <p id=\"primary\">chunk_id</p>\n",
       "                            <span class=\"djtooltiptext\"></span>\n",
       "                        </div> </th> </tr> </thead>\n",
       "            <tbody> <tr>  </tr> </tbody>\n",
       "        </table>\n",
       "        \n",
       "        <p>Total: 0</p></div>\n",
       "        "
      ],
      "text/plain": [
       "*date_id    *chunk_id   \n",
       "+---------+ +----------+\n",
       "\n",
       " (Total: 0)"
      ]
     },
     "execution_count": 41,
     "metadata": {},
     "output_type": "execute_result"
    }
   ],
   "source": [
    "djm.SortingChunk() & 'date_id=\"20240718C\"'"
   ]
  },
  {
   "cell_type": "code",
   "execution_count": 39,
   "metadata": {},
   "outputs": [
    {
     "data": {
      "text/plain": [
       "('20240718C', 'data000')"
      ]
     },
     "execution_count": 39,
     "metadata": {},
     "output_type": "execute_result"
    }
   ],
   "source": [
    "date_id, datafile"
   ]
  },
  {
   "cell_type": "code",
   "execution_count": 42,
   "metadata": {},
   "outputs": [
    {
     "name": "stdout",
     "output_type": "stream",
     "text": [
      "No chunk found for 20240718C/data000\n"
     ]
    }
   ],
   "source": [
    "# Get associated chunk noise run for each datafile in df\n",
    "df['chunk'] = None\n",
    "df['online_ei_path'] = None\n",
    "df['chunk_ei_path'] = None\n",
    "\n",
    "for idx in range(len(df)):\n",
    "    date_id = df['date_id'][idx]\n",
    "    datafile = df['datafile'][idx]\n",
    "\n",
    "    try:\n",
    "        query = djm.DataFile() & f'date_id=\"{date_id}\"' & f'data_file=\"{datafile}\"'\n",
    "        chunk_id = query.fetch1('chunk_id')\n",
    "    except:\n",
    "        print(f'No chunk found for {date_id}/{datafile}')\n",
    "        continue\n",
    "    df.at[idx, 'chunk'] = chunk_id\n",
    "\n",
    "    # Get online EI path\n",
    "    ei_path = glob.glob(os.path.join(df['dir'][idx], '*.ei'))\n",
    "    if len(ei_path) == 0:\n",
    "        ei_path = glob.glob(os.path.join(df['dir'][idx], '*', 'online*.ei'))\n",
    "\n",
    "    if len(ei_path) == 0:\n",
    "        print(f'No EI file found for {df[\"dir\"][idx]}')\n",
    "    else:\n",
    "        df.at[idx, 'online_ei_path'] = ei_path[0]\n",
    "\n",
    "    # Get chunk EI path\n",
    "    data_dir = os.path.dirname(df['dir'][idx])\n",
    "    ei_path = glob.glob(os.path.join(data_dir, chunk_id, '*', '*.ei'))\n",
    "    if len(ei_path) == 0:\n",
    "        print(f'No EI file found for {data_dir}/{chunk_id}')\n",
    "    else:\n",
    "        df.at[idx, 'chunk_ei_path'] = ei_path[0]"
   ]
  },
  {
   "cell_type": "code",
   "execution_count": 44,
   "metadata": {},
   "outputs": [
    {
     "data": {
      "text/html": [
       "<div>\n",
       "<style scoped>\n",
       "    .dataframe tbody tr th:only-of-type {\n",
       "        vertical-align: middle;\n",
       "    }\n",
       "\n",
       "    .dataframe tbody tr th {\n",
       "        vertical-align: top;\n",
       "    }\n",
       "\n",
       "    .dataframe thead th {\n",
       "        text-align: right;\n",
       "    }\n",
       "</style>\n",
       "<table border=\"1\" class=\"dataframe\">\n",
       "  <thead>\n",
       "    <tr style=\"text-align: right;\">\n",
       "      <th></th>\n",
       "      <th>index</th>\n",
       "      <th>dir</th>\n",
       "      <th>max_st_min</th>\n",
       "      <th>date_id</th>\n",
       "      <th>datafile</th>\n",
       "      <th>chunk</th>\n",
       "      <th>chunk_ei_path</th>\n",
       "      <th>online_ei_path</th>\n",
       "    </tr>\n",
       "  </thead>\n",
       "  <tbody>\n",
       "    <tr>\n",
       "      <th>0</th>\n",
       "      <td>29</td>\n",
       "      <td>/Volumes/data-1/analysis/20240717C/data000</td>\n",
       "      <td>15.699998</td>\n",
       "      <td>20240717C</td>\n",
       "      <td>data000</td>\n",
       "      <td>chunk1</td>\n",
       "      <td>/Volumes/data-1/analysis/20240717C/chunk1/kilo...</td>\n",
       "      <td>/Volumes/data-1/analysis/20240717C/data000/dat...</td>\n",
       "    </tr>\n",
       "    <tr>\n",
       "      <th>2</th>\n",
       "      <td>31</td>\n",
       "      <td>/Volumes/data-1/analysis/20240801C/data001</td>\n",
       "      <td>12.499934</td>\n",
       "      <td>20240801C</td>\n",
       "      <td>data001</td>\n",
       "      <td>chunk1</td>\n",
       "      <td>/Volumes/data-1/analysis/20240801C/chunk1/kilo...</td>\n",
       "      <td>/Volumes/data-1/analysis/20240801C/data001/dat...</td>\n",
       "    </tr>\n",
       "    <tr>\n",
       "      <th>3</th>\n",
       "      <td>33</td>\n",
       "      <td>/Volumes/data-1/analysis/20240806C/data011</td>\n",
       "      <td>18.699998</td>\n",
       "      <td>20240806C</td>\n",
       "      <td>data011</td>\n",
       "      <td>chunk3</td>\n",
       "      <td>/Volumes/data-1/analysis/20240806C/chunk3/kilo...</td>\n",
       "      <td>/Volumes/data-1/analysis/20240806C/data011/dat...</td>\n",
       "    </tr>\n",
       "    <tr>\n",
       "      <th>4</th>\n",
       "      <td>35</td>\n",
       "      <td>/Volumes/data-1/analysis/20240813C/data007</td>\n",
       "      <td>17.999993</td>\n",
       "      <td>20240813C</td>\n",
       "      <td>data007</td>\n",
       "      <td>chunk3</td>\n",
       "      <td>/Volumes/data-1/analysis/20240813C/chunk3/kilo...</td>\n",
       "      <td>/Volumes/data-1/analysis/20240813C/data007/dat...</td>\n",
       "    </tr>\n",
       "    <tr>\n",
       "      <th>5</th>\n",
       "      <td>36</td>\n",
       "      <td>/Volumes/data-1/analysis/20240813C/data008</td>\n",
       "      <td>18.699898</td>\n",
       "      <td>20240813C</td>\n",
       "      <td>data008</td>\n",
       "      <td>chunk3</td>\n",
       "      <td>/Volumes/data-1/analysis/20240813C/chunk3/kilo...</td>\n",
       "      <td>/Volumes/data-1/analysis/20240813C/data008/dat...</td>\n",
       "    </tr>\n",
       "    <tr>\n",
       "      <th>6</th>\n",
       "      <td>41</td>\n",
       "      <td>/Volumes/data-1/analysis/20250121C/data002</td>\n",
       "      <td>12.566507</td>\n",
       "      <td>20250121C</td>\n",
       "      <td>data002</td>\n",
       "      <td>chunk1</td>\n",
       "      <td>/Volumes/data-1/analysis/20250121C/chunk1/kilo...</td>\n",
       "      <td>/Volumes/data-1/analysis/20250121C/data002/dat...</td>\n",
       "    </tr>\n",
       "    <tr>\n",
       "      <th>7</th>\n",
       "      <td>42</td>\n",
       "      <td>/Volumes/data-1/analysis/20250131C/data001</td>\n",
       "      <td>12.466656</td>\n",
       "      <td>20250131C</td>\n",
       "      <td>data001</td>\n",
       "      <td>chunk1</td>\n",
       "      <td>/Volumes/data-1/analysis/20250131C/chunk1/kilo...</td>\n",
       "      <td>/Volumes/data-1/analysis/20250131C/data001/dat...</td>\n",
       "    </tr>\n",
       "  </tbody>\n",
       "</table>\n",
       "</div>"
      ],
      "text/plain": [
       "   index                                         dir  max_st_min    date_id  \\\n",
       "0     29  /Volumes/data-1/analysis/20240717C/data000   15.699998  20240717C   \n",
       "2     31  /Volumes/data-1/analysis/20240801C/data001   12.499934  20240801C   \n",
       "3     33  /Volumes/data-1/analysis/20240806C/data011   18.699998  20240806C   \n",
       "4     35  /Volumes/data-1/analysis/20240813C/data007   17.999993  20240813C   \n",
       "5     36  /Volumes/data-1/analysis/20240813C/data008   18.699898  20240813C   \n",
       "6     41  /Volumes/data-1/analysis/20250121C/data002   12.566507  20250121C   \n",
       "7     42  /Volumes/data-1/analysis/20250131C/data001   12.466656  20250131C   \n",
       "\n",
       "  datafile   chunk                                      chunk_ei_path  \\\n",
       "0  data000  chunk1  /Volumes/data-1/analysis/20240717C/chunk1/kilo...   \n",
       "2  data001  chunk1  /Volumes/data-1/analysis/20240801C/chunk1/kilo...   \n",
       "3  data011  chunk3  /Volumes/data-1/analysis/20240806C/chunk3/kilo...   \n",
       "4  data007  chunk3  /Volumes/data-1/analysis/20240813C/chunk3/kilo...   \n",
       "5  data008  chunk3  /Volumes/data-1/analysis/20240813C/chunk3/kilo...   \n",
       "6  data002  chunk1  /Volumes/data-1/analysis/20250121C/chunk1/kilo...   \n",
       "7  data001  chunk1  /Volumes/data-1/analysis/20250131C/chunk1/kilo...   \n",
       "\n",
       "                                      online_ei_path  \n",
       "0  /Volumes/data-1/analysis/20240717C/data000/dat...  \n",
       "2  /Volumes/data-1/analysis/20240801C/data001/dat...  \n",
       "3  /Volumes/data-1/analysis/20240806C/data011/dat...  \n",
       "4  /Volumes/data-1/analysis/20240813C/data007/dat...  \n",
       "5  /Volumes/data-1/analysis/20240813C/data008/dat...  \n",
       "6  /Volumes/data-1/analysis/20250121C/data002/dat...  \n",
       "7  /Volumes/data-1/analysis/20250131C/data001/dat...  "
      ]
     },
     "execution_count": 44,
     "metadata": {},
     "output_type": "execute_result"
    }
   ],
   "source": [
    "# Remove None EI paths\n",
    "df = df.dropna(subset=['online_ei_path', 'chunk_ei_path'])\n",
    "df"
   ]
  },
  {
   "cell_type": "code",
   "execution_count": 50,
   "metadata": {},
   "outputs": [
    {
     "name": "stderr",
     "output_type": "stream",
     "text": [
      "/var/folders/pt/ln41qs8d7vd36z1sgbgljbn00000gn/T/ipykernel_69063/937264681.py:2: SettingWithCopyWarning: \n",
      "A value is trying to be set on a copy of a slice from a DataFrame.\n",
      "Try using .loc[row_indexer,col_indexer] = value instead\n",
      "\n",
      "See the caveats in the documentation: https://pandas.pydata.org/pandas-docs/stable/user_guide/indexing.html#returning-a-view-versus-a-copy\n",
      "  df['n_cells_online'] = None\n",
      "/var/folders/pt/ln41qs8d7vd36z1sgbgljbn00000gn/T/ipykernel_69063/937264681.py:3: SettingWithCopyWarning: \n",
      "A value is trying to be set on a copy of a slice from a DataFrame.\n",
      "Try using .loc[row_indexer,col_indexer] = value instead\n",
      "\n",
      "See the caveats in the documentation: https://pandas.pydata.org/pandas-docs/stable/user_guide/indexing.html#returning-a-view-versus-a-copy\n",
      "  df['n_cells_chunk'] = None\n"
     ]
    }
   ],
   "source": [
    "# Populate num cells\n",
    "df['n_cells_online'] = None\n",
    "df['n_cells_chunk'] = None"
   ]
  },
  {
   "cell_type": "code",
   "execution_count": 57,
   "metadata": {},
   "outputs": [
    {
     "data": {
      "text/html": [
       "<div>\n",
       "<style scoped>\n",
       "    .dataframe tbody tr th:only-of-type {\n",
       "        vertical-align: middle;\n",
       "    }\n",
       "\n",
       "    .dataframe tbody tr th {\n",
       "        vertical-align: top;\n",
       "    }\n",
       "\n",
       "    .dataframe thead th {\n",
       "        text-align: right;\n",
       "    }\n",
       "</style>\n",
       "<table border=\"1\" class=\"dataframe\">\n",
       "  <thead>\n",
       "    <tr style=\"text-align: right;\">\n",
       "      <th></th>\n",
       "      <th>dir</th>\n",
       "      <th>max_st_min</th>\n",
       "      <th>date_id</th>\n",
       "      <th>datafile</th>\n",
       "      <th>chunk</th>\n",
       "      <th>chunk_ei_path</th>\n",
       "      <th>online_ei_path</th>\n",
       "      <th>n_cells_online</th>\n",
       "      <th>n_cells_chunk</th>\n",
       "    </tr>\n",
       "  </thead>\n",
       "  <tbody>\n",
       "    <tr>\n",
       "      <th>0</th>\n",
       "      <td>/Volumes/data-1/analysis/20240717C/data000</td>\n",
       "      <td>15.699998</td>\n",
       "      <td>20240717C</td>\n",
       "      <td>data000</td>\n",
       "      <td>chunk1</td>\n",
       "      <td>/Volumes/data-1/analysis/20240717C/chunk1/kilo...</td>\n",
       "      <td>/Volumes/data-1/analysis/20240717C/data000/dat...</td>\n",
       "      <td>795</td>\n",
       "      <td>557</td>\n",
       "    </tr>\n",
       "    <tr>\n",
       "      <th>1</th>\n",
       "      <td>/Volumes/data-1/analysis/20240801C/data001</td>\n",
       "      <td>12.499934</td>\n",
       "      <td>20240801C</td>\n",
       "      <td>data001</td>\n",
       "      <td>chunk1</td>\n",
       "      <td>/Volumes/data-1/analysis/20240801C/chunk1/kilo...</td>\n",
       "      <td>/Volumes/data-1/analysis/20240801C/data001/dat...</td>\n",
       "      <td>None</td>\n",
       "      <td>None</td>\n",
       "    </tr>\n",
       "    <tr>\n",
       "      <th>2</th>\n",
       "      <td>/Volumes/data-1/analysis/20240806C/data011</td>\n",
       "      <td>18.699998</td>\n",
       "      <td>20240806C</td>\n",
       "      <td>data011</td>\n",
       "      <td>chunk3</td>\n",
       "      <td>/Volumes/data-1/analysis/20240806C/chunk3/kilo...</td>\n",
       "      <td>/Volumes/data-1/analysis/20240806C/data011/dat...</td>\n",
       "      <td>None</td>\n",
       "      <td>None</td>\n",
       "    </tr>\n",
       "    <tr>\n",
       "      <th>3</th>\n",
       "      <td>/Volumes/data-1/analysis/20240813C/data007</td>\n",
       "      <td>17.999993</td>\n",
       "      <td>20240813C</td>\n",
       "      <td>data007</td>\n",
       "      <td>chunk3</td>\n",
       "      <td>/Volumes/data-1/analysis/20240813C/chunk3/kilo...</td>\n",
       "      <td>/Volumes/data-1/analysis/20240813C/data007/dat...</td>\n",
       "      <td>None</td>\n",
       "      <td>None</td>\n",
       "    </tr>\n",
       "    <tr>\n",
       "      <th>4</th>\n",
       "      <td>/Volumes/data-1/analysis/20240813C/data008</td>\n",
       "      <td>18.699898</td>\n",
       "      <td>20240813C</td>\n",
       "      <td>data008</td>\n",
       "      <td>chunk3</td>\n",
       "      <td>/Volumes/data-1/analysis/20240813C/chunk3/kilo...</td>\n",
       "      <td>/Volumes/data-1/analysis/20240813C/data008/dat...</td>\n",
       "      <td>None</td>\n",
       "      <td>None</td>\n",
       "    </tr>\n",
       "    <tr>\n",
       "      <th>5</th>\n",
       "      <td>/Volumes/data-1/analysis/20250121C/data002</td>\n",
       "      <td>12.566507</td>\n",
       "      <td>20250121C</td>\n",
       "      <td>data002</td>\n",
       "      <td>chunk1</td>\n",
       "      <td>/Volumes/data-1/analysis/20250121C/chunk1/kilo...</td>\n",
       "      <td>/Volumes/data-1/analysis/20250121C/data002/dat...</td>\n",
       "      <td>None</td>\n",
       "      <td>None</td>\n",
       "    </tr>\n",
       "    <tr>\n",
       "      <th>6</th>\n",
       "      <td>/Volumes/data-1/analysis/20250131C/data001</td>\n",
       "      <td>12.466656</td>\n",
       "      <td>20250131C</td>\n",
       "      <td>data001</td>\n",
       "      <td>chunk1</td>\n",
       "      <td>/Volumes/data-1/analysis/20250131C/chunk1/kilo...</td>\n",
       "      <td>/Volumes/data-1/analysis/20250131C/data001/dat...</td>\n",
       "      <td>None</td>\n",
       "      <td>None</td>\n",
       "    </tr>\n",
       "  </tbody>\n",
       "</table>\n",
       "</div>"
      ],
      "text/plain": [
       "                                          dir  max_st_min    date_id datafile  \\\n",
       "0  /Volumes/data-1/analysis/20240717C/data000   15.699998  20240717C  data000   \n",
       "1  /Volumes/data-1/analysis/20240801C/data001   12.499934  20240801C  data001   \n",
       "2  /Volumes/data-1/analysis/20240806C/data011   18.699998  20240806C  data011   \n",
       "3  /Volumes/data-1/analysis/20240813C/data007   17.999993  20240813C  data007   \n",
       "4  /Volumes/data-1/analysis/20240813C/data008   18.699898  20240813C  data008   \n",
       "5  /Volumes/data-1/analysis/20250121C/data002   12.566507  20250121C  data002   \n",
       "6  /Volumes/data-1/analysis/20250131C/data001   12.466656  20250131C  data001   \n",
       "\n",
       "    chunk                                      chunk_ei_path  \\\n",
       "0  chunk1  /Volumes/data-1/analysis/20240717C/chunk1/kilo...   \n",
       "1  chunk1  /Volumes/data-1/analysis/20240801C/chunk1/kilo...   \n",
       "2  chunk3  /Volumes/data-1/analysis/20240806C/chunk3/kilo...   \n",
       "3  chunk3  /Volumes/data-1/analysis/20240813C/chunk3/kilo...   \n",
       "4  chunk3  /Volumes/data-1/analysis/20240813C/chunk3/kilo...   \n",
       "5  chunk1  /Volumes/data-1/analysis/20250121C/chunk1/kilo...   \n",
       "6  chunk1  /Volumes/data-1/analysis/20250131C/chunk1/kilo...   \n",
       "\n",
       "                                      online_ei_path n_cells_online  \\\n",
       "0  /Volumes/data-1/analysis/20240717C/data000/dat...            795   \n",
       "1  /Volumes/data-1/analysis/20240801C/data001/dat...           None   \n",
       "2  /Volumes/data-1/analysis/20240806C/data011/dat...           None   \n",
       "3  /Volumes/data-1/analysis/20240813C/data007/dat...           None   \n",
       "4  /Volumes/data-1/analysis/20240813C/data008/dat...           None   \n",
       "5  /Volumes/data-1/analysis/20250121C/data002/dat...           None   \n",
       "6  /Volumes/data-1/analysis/20250131C/data001/dat...           None   \n",
       "\n",
       "  n_cells_chunk  \n",
       "0           557  \n",
       "1          None  \n",
       "2          None  \n",
       "3          None  \n",
       "4          None  \n",
       "5          None  \n",
       "6          None  "
      ]
     },
     "execution_count": 57,
     "metadata": {},
     "output_type": "execute_result"
    }
   ],
   "source": [
    "df = df.reset_index()\n",
    "# Remove level_0 and index columns\n",
    "df = df.drop(columns=['level_0', 'index'])\n",
    "df"
   ]
  },
  {
   "cell_type": "code",
   "execution_count": 58,
   "metadata": {},
   "outputs": [],
   "source": [
    "for idx in range(len(df)):\n",
    "# idx = 0\n",
    "    for str_data in ['chunk', 'online']:\n",
    "# str_data = 'online'\n",
    "        dir = os.path.dirname(df.loc[idx, f'{str_data}_ei_path'])\n",
    "        dataset_name = os.path.basename(df.loc[idx, f'{str_data}_ei_path'])[:-3]\n",
    "        vcd = vl.load_vision_data(dir, dataset_name, include_neurons=True)\n",
    "        n_cells = len(vcd.get_cell_ids())\n",
    "        df.loc[idx, f'n_cells_{str_data}'] = n_cells"
   ]
  },
  {
   "cell_type": "code",
   "execution_count": 63,
   "metadata": {},
   "outputs": [],
   "source": [
    "df['dataset'] = df['date_id'] + '_' + df['chunk'] + '_' + df['datafile']"
   ]
  },
  {
   "cell_type": "code",
   "execution_count": 61,
   "metadata": {},
   "outputs": [],
   "source": [
    "import seaborn as sns"
   ]
  },
  {
   "cell_type": "code",
   "execution_count": 64,
   "metadata": {},
   "outputs": [
    {
     "data": {
      "text/html": [
       "<div>\n",
       "<style scoped>\n",
       "    .dataframe tbody tr th:only-of-type {\n",
       "        vertical-align: middle;\n",
       "    }\n",
       "\n",
       "    .dataframe tbody tr th {\n",
       "        vertical-align: top;\n",
       "    }\n",
       "\n",
       "    .dataframe thead th {\n",
       "        text-align: right;\n",
       "    }\n",
       "</style>\n",
       "<table border=\"1\" class=\"dataframe\">\n",
       "  <thead>\n",
       "    <tr style=\"text-align: right;\">\n",
       "      <th></th>\n",
       "      <th>dir</th>\n",
       "      <th>max_st_min</th>\n",
       "      <th>date_id</th>\n",
       "      <th>datafile</th>\n",
       "      <th>chunk</th>\n",
       "      <th>chunk_ei_path</th>\n",
       "      <th>online_ei_path</th>\n",
       "      <th>n_cells_online</th>\n",
       "      <th>n_cells_chunk</th>\n",
       "      <th>dataset</th>\n",
       "    </tr>\n",
       "  </thead>\n",
       "  <tbody>\n",
       "    <tr>\n",
       "      <th>0</th>\n",
       "      <td>/Volumes/data-1/analysis/20240717C/data000</td>\n",
       "      <td>15.699998</td>\n",
       "      <td>20240717C</td>\n",
       "      <td>data000</td>\n",
       "      <td>chunk1</td>\n",
       "      <td>/Volumes/data-1/analysis/20240717C/chunk1/kilo...</td>\n",
       "      <td>/Volumes/data-1/analysis/20240717C/data000/dat...</td>\n",
       "      <td>795</td>\n",
       "      <td>557</td>\n",
       "      <td>20240717C_chunk1_data000</td>\n",
       "    </tr>\n",
       "    <tr>\n",
       "      <th>1</th>\n",
       "      <td>/Volumes/data-1/analysis/20240801C/data001</td>\n",
       "      <td>12.499934</td>\n",
       "      <td>20240801C</td>\n",
       "      <td>data001</td>\n",
       "      <td>chunk1</td>\n",
       "      <td>/Volumes/data-1/analysis/20240801C/chunk1/kilo...</td>\n",
       "      <td>/Volumes/data-1/analysis/20240801C/data001/dat...</td>\n",
       "      <td>1818</td>\n",
       "      <td>891</td>\n",
       "      <td>20240801C_chunk1_data001</td>\n",
       "    </tr>\n",
       "    <tr>\n",
       "      <th>2</th>\n",
       "      <td>/Volumes/data-1/analysis/20240806C/data011</td>\n",
       "      <td>18.699998</td>\n",
       "      <td>20240806C</td>\n",
       "      <td>data011</td>\n",
       "      <td>chunk3</td>\n",
       "      <td>/Volumes/data-1/analysis/20240806C/chunk3/kilo...</td>\n",
       "      <td>/Volumes/data-1/analysis/20240806C/data011/dat...</td>\n",
       "      <td>909</td>\n",
       "      <td>534</td>\n",
       "      <td>20240806C_chunk3_data011</td>\n",
       "    </tr>\n",
       "    <tr>\n",
       "      <th>3</th>\n",
       "      <td>/Volumes/data-1/analysis/20240813C/data007</td>\n",
       "      <td>17.999993</td>\n",
       "      <td>20240813C</td>\n",
       "      <td>data007</td>\n",
       "      <td>chunk3</td>\n",
       "      <td>/Volumes/data-1/analysis/20240813C/chunk3/kilo...</td>\n",
       "      <td>/Volumes/data-1/analysis/20240813C/data007/dat...</td>\n",
       "      <td>555</td>\n",
       "      <td>752</td>\n",
       "      <td>20240813C_chunk3_data007</td>\n",
       "    </tr>\n",
       "    <tr>\n",
       "      <th>4</th>\n",
       "      <td>/Volumes/data-1/analysis/20240813C/data008</td>\n",
       "      <td>18.699898</td>\n",
       "      <td>20240813C</td>\n",
       "      <td>data008</td>\n",
       "      <td>chunk3</td>\n",
       "      <td>/Volumes/data-1/analysis/20240813C/chunk3/kilo...</td>\n",
       "      <td>/Volumes/data-1/analysis/20240813C/data008/dat...</td>\n",
       "      <td>971</td>\n",
       "      <td>752</td>\n",
       "      <td>20240813C_chunk3_data008</td>\n",
       "    </tr>\n",
       "    <tr>\n",
       "      <th>5</th>\n",
       "      <td>/Volumes/data-1/analysis/20250121C/data002</td>\n",
       "      <td>12.566507</td>\n",
       "      <td>20250121C</td>\n",
       "      <td>data002</td>\n",
       "      <td>chunk1</td>\n",
       "      <td>/Volumes/data-1/analysis/20250121C/chunk1/kilo...</td>\n",
       "      <td>/Volumes/data-1/analysis/20250121C/data002/dat...</td>\n",
       "      <td>1055</td>\n",
       "      <td>728</td>\n",
       "      <td>20250121C_chunk1_data002</td>\n",
       "    </tr>\n",
       "    <tr>\n",
       "      <th>6</th>\n",
       "      <td>/Volumes/data-1/analysis/20250131C/data001</td>\n",
       "      <td>12.466656</td>\n",
       "      <td>20250131C</td>\n",
       "      <td>data001</td>\n",
       "      <td>chunk1</td>\n",
       "      <td>/Volumes/data-1/analysis/20250131C/chunk1/kilo...</td>\n",
       "      <td>/Volumes/data-1/analysis/20250131C/data001/dat...</td>\n",
       "      <td>1615</td>\n",
       "      <td>576</td>\n",
       "      <td>20250131C_chunk1_data001</td>\n",
       "    </tr>\n",
       "  </tbody>\n",
       "</table>\n",
       "</div>"
      ],
      "text/plain": [
       "                                          dir  max_st_min    date_id datafile  \\\n",
       "0  /Volumes/data-1/analysis/20240717C/data000   15.699998  20240717C  data000   \n",
       "1  /Volumes/data-1/analysis/20240801C/data001   12.499934  20240801C  data001   \n",
       "2  /Volumes/data-1/analysis/20240806C/data011   18.699998  20240806C  data011   \n",
       "3  /Volumes/data-1/analysis/20240813C/data007   17.999993  20240813C  data007   \n",
       "4  /Volumes/data-1/analysis/20240813C/data008   18.699898  20240813C  data008   \n",
       "5  /Volumes/data-1/analysis/20250121C/data002   12.566507  20250121C  data002   \n",
       "6  /Volumes/data-1/analysis/20250131C/data001   12.466656  20250131C  data001   \n",
       "\n",
       "    chunk                                      chunk_ei_path  \\\n",
       "0  chunk1  /Volumes/data-1/analysis/20240717C/chunk1/kilo...   \n",
       "1  chunk1  /Volumes/data-1/analysis/20240801C/chunk1/kilo...   \n",
       "2  chunk3  /Volumes/data-1/analysis/20240806C/chunk3/kilo...   \n",
       "3  chunk3  /Volumes/data-1/analysis/20240813C/chunk3/kilo...   \n",
       "4  chunk3  /Volumes/data-1/analysis/20240813C/chunk3/kilo...   \n",
       "5  chunk1  /Volumes/data-1/analysis/20250121C/chunk1/kilo...   \n",
       "6  chunk1  /Volumes/data-1/analysis/20250131C/chunk1/kilo...   \n",
       "\n",
       "                                      online_ei_path n_cells_online  \\\n",
       "0  /Volumes/data-1/analysis/20240717C/data000/dat...            795   \n",
       "1  /Volumes/data-1/analysis/20240801C/data001/dat...           1818   \n",
       "2  /Volumes/data-1/analysis/20240806C/data011/dat...            909   \n",
       "3  /Volumes/data-1/analysis/20240813C/data007/dat...            555   \n",
       "4  /Volumes/data-1/analysis/20240813C/data008/dat...            971   \n",
       "5  /Volumes/data-1/analysis/20250121C/data002/dat...           1055   \n",
       "6  /Volumes/data-1/analysis/20250131C/data001/dat...           1615   \n",
       "\n",
       "  n_cells_chunk                   dataset  \n",
       "0           557  20240717C_chunk1_data000  \n",
       "1           891  20240801C_chunk1_data001  \n",
       "2           534  20240806C_chunk3_data011  \n",
       "3           752  20240813C_chunk3_data007  \n",
       "4           752  20240813C_chunk3_data008  \n",
       "5           728  20250121C_chunk1_data002  \n",
       "6           576  20250131C_chunk1_data001  "
      ]
     },
     "execution_count": 64,
     "metadata": {},
     "output_type": "execute_result"
    }
   ],
   "source": [
    "df"
   ]
  },
  {
   "cell_type": "code",
   "execution_count": 66,
   "metadata": {},
   "outputs": [
    {
     "data": {
      "text/plain": [
       "<Axes: xlabel='n_cells', ylabel='dataset'>"
      ]
     },
     "execution_count": 66,
     "metadata": {},
     "output_type": "execute_result"
    },
    {
     "data": {
      "image/png": "[encoded data removed]",
      "text/plain": [
       "<Figure size 1400x800 with 1 Axes>"
      ]
     },
     "metadata": {},
     "output_type": "display_data"
    }
   ],
   "source": [
    "import seaborn as sns\n",
    "\n",
    "import matplotlib.pyplot as plt\n",
    "\n",
    "# Melt the dataframe to have 'n_cells_online' and 'n_cells_chunk' in a single column\n",
    "df_melted = df.melt(id_vars=['dataset'], value_vars=['n_cells_online', 'n_cells_chunk'], \n",
    "                    var_name='cell_type', value_name='n_cells')\n",
    "\n",
    "# Create the grouped barplot\n",
    "plt.figure(figsize=(14, 8))\n",
    "sns.barplot(data=df_melted, y='dataset', x='n_cells', hue='cell_type')"
   ]
  }
 ],
 "metadata": {
  "kernelspec": {
   "display_name": "mea",
   "language": "python",
   "name": "python3"
  },
  "language_info": {
   "codemirror_mode": {
    "name": "ipython",
    "version": 3
   },
   "file_extension": ".py",
   "mimetype": "text/x-python",
   "name": "python",
   "nbconvert_exporter": "python",
   "pygments_lexer": "ipython3",
   "version": "3.8.20"
  }
 },
 "nbformat": 4,
 "nbformat_minor": 2
}
